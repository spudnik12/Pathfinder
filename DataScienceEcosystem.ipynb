{
 "cells": [
  {
   "cell_type": "markdown",
   "id": "86c0b8dc-2cce-43b9-ad38-6c8129308c9f",
   "metadata": {},
   "source": [
    "# Data Science Tools and Ecosystem"
   ]
  },
  {
   "cell_type": "markdown",
   "id": "7268a505-3add-4675-ba05-bb42ea95cfcb",
   "metadata": {},
   "source": [
    "## Author\n",
    "Andres Matos "
   ]
  },
  {
   "cell_type": "markdown",
   "id": "e280ff57-e539-46ae-8304-bc051f10a3d1",
   "metadata": {},
   "source": [
    "In this notebook, Data Science Tools and Ecosystems are summarized."
   ]
  },
  {
   "cell_type": "markdown",
   "id": "89d8f252-07f9-4920-80d7-5d94e1397e54",
   "metadata": {},
   "source": [
    "__Objectives__:\n",
    "+ List popular languages for Data Science\n",
    "+ Convert 200 minutes into hours\n",
    "+ Evaluating arithmetic expressions in Python\n",
    "+ Simple arithmetic expression to multiply and then add\n",
    "+ Use markdown to create lists and tables"
   ]
  },
  {
   "cell_type": "markdown",
   "id": "958faade-e64c-4615-934a-41c89294188a",
   "metadata": {},
   "source": [
    "Some of the popular langugages that Data Scientists use are:\n",
    "1. Python\n",
    "2. R\n",
    "3. Java"
   ]
  },
  {
   "cell_type": "markdown",
   "id": "38713596-9163-4333-8b5b-3f3aec8bcb66",
   "metadata": {},
   "source": [
    "Some of the commonly used librarires used by Data Scientists include:\n",
    "1. ggplot\n",
    "2. caret\n",
    "3. dplyr"
   ]
  },
  {
   "cell_type": "markdown",
   "id": "5a863080-efed-4bc0-81dd-858c0b65d486",
   "metadata": {},
   "source": [
    "| Data Science Tools |\n",
    "| --- |\n",
    "| Anaconda |\n",
    "| Jupyter Lab |\n",
    "| VS Code |"
   ]
  },
  {
   "cell_type": "markdown",
   "id": "ad51f4a1-c483-4486-b7a0-80be0584e703",
   "metadata": {},
   "source": [
    "### Below are a few examples of evaluating arithmetic expressions in Python"
   ]
  },
  {
   "cell_type": "code",
   "execution_count": 1,
   "id": "9731fa19-43ca-4a0b-b35e-7982287bdd04",
   "metadata": {},
   "outputs": [
    {
     "data": {
      "text/plain": [
       "17"
      ]
     },
     "execution_count": 1,
     "metadata": {},
     "output_type": "execute_result"
    }
   ],
   "source": [
    "#This is a simple arithmetic expression to multiply and then add integers\n",
    "(3*4)+5"
   ]
  },
  {
   "cell_type": "code",
   "execution_count": 14,
   "id": "c8bc6426-7bc2-4409-b8a8-ac5779dee6bf",
   "metadata": {},
   "outputs": [
    {
     "name": "stdout",
     "output_type": "stream",
     "text": [
      "3.33 hours\n"
     ]
    }
   ],
   "source": [
    "#This will convert 200 minutes to hours by dividing by 60\n",
    "Hours = round(200 / 60, 2)\n",
    "print(Hours, \"hours\")"
   ]
  },
  {
   "cell_type": "code",
   "execution_count": null,
   "id": "8a26a2ad-6151-408f-a30f-d1b5144ffbdf",
   "metadata": {},
   "outputs": [],
   "source": []
  }
 ],
 "metadata": {
  "kernelspec": {
   "display_name": "Python 3 (ipykernel)",
   "language": "python",
   "name": "python3"
  },
  "language_info": {
   "codemirror_mode": {
    "name": "ipython",
    "version": 3
   },
   "file_extension": ".py",
   "mimetype": "text/x-python",
   "name": "python",
   "nbconvert_exporter": "python",
   "pygments_lexer": "ipython3",
   "version": "3.11.5"
  }
 },
 "nbformat": 4,
 "nbformat_minor": 5
}
